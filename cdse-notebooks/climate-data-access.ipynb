{
 "cells": [
  {
   "cell_type": "markdown",
   "id": "47c2678a-bf9e-46bf-b0d1-58939415b7e3",
   "metadata": {},
   "source": [
    "# Eurostat European Big Data Hackathon 2025\n",
    "\n",
    "<img src=\"https://cros.ec.europa.eu/system/files/inline-images/EU-Big-Data-Hackathon-2025_horiz_0.jpg\" width=\"500\"/>\n",
    "\n",
    "\n",
    "Eurostat is organizing the fifth round of the European Big Data Hackathon from 6 to 11 March 2025 (including the presentation by the winners at the NTTS) in Brussels. \n",
    "\n",
    "The purpose of the 2025 hackathon is to foster expertise in integrating Earth Observation data with official statistics for producing innovative ideas for statistical products and tools relevant for the EU policies. \n",
    "\n",
    "\n",
    "The European Big Data Hackathon takes place every two years and gathers teams from all over Europe to compete for the best solution to a statistical challenge. The teams develop innovative approaches, applications and data products combining official statistics and big data that can help to answer pressing EU policy and/or statistical questions.\n",
    "\n",
    "_Source: https://cros.ec.europa.eu/2025EuropeanBigDataHackathon_\n",
    "\n",
    "# How to download, visualise and run some basic statistics on ERA5 data\n",
    "\n",
    "*Written by William Ray for the participants of the 5th European Big Data Hackathon 2025.*\n",
    "\n",
    "In this notebook you are shown how to:\n",
    "\n",
    "- Download ERA5 data from the Climate Data Store using API.\n",
    "- How to visualise the downloaded data using xarray.\n",
    "- Run some basic statistics such as the average temperature over a year.\n",
    "- Visualise the average temperature difference between 1950 and 2023.\n",
    "\n",
    "Before you get started you will need to create an account at the [Climate Data Store](https://cds.climate.copernicus.eu/).\n",
    "\n"
   ]
  },
  {
   "cell_type": "code",
   "execution_count": 17,
   "id": "14865e86-d857-4553-8831-bd2ec44a5eca",
   "metadata": {},
   "outputs": [
    {
     "name": "stdout",
     "output_type": "stream",
     "text": [
      "Collecting basemap-data-hires\n",
      "  Downloading basemap_data_hires-1.3.2-py2.py3-none-any.whl (91.1 MB)\n",
      "\u001b[2K     \u001b[90m━━━━━━━━━━━━━━━━━━━━━━━━━━━━━━━━━━━━━━━━\u001b[0m \u001b[32m91.1/91.1 MB\u001b[0m \u001b[31m42.9 MB/s\u001b[0m eta \u001b[36m0:00:00\u001b[0m00:01\u001b[0m00:01\u001b[0m\n",
      "Installing collected packages: basemap-data-hires\n",
      "Successfully installed basemap-data-hires-1.3.2\n"
     ]
    }
   ],
   "source": [
    "import sys\n",
    "!{sys.executable} -m pip install \n",
    "\n",
    "#cdsapi cartopy basemap-data-hires "
   ]
  },
  {
   "cell_type": "code",
   "execution_count": 18,
   "id": "bd561c20-5504-41fe-ad09-49b25cf2a1cf",
   "metadata": {},
   "outputs": [
    {
     "ename": "ValueError",
     "evalue": "numpy.dtype size changed, may indicate binary incompatibility. Expected 96 from C header, got 88 from PyObject",
     "output_type": "error",
     "traceback": [
      "\u001b[0;31m---------------------------------------------------------------------------\u001b[0m",
      "\u001b[0;31mValueError\u001b[0m                                Traceback (most recent call last)",
      "Cell \u001b[0;32mIn[18], line 12\u001b[0m\n\u001b[1;32m     10\u001b[0m \u001b[38;5;66;03m# Visualization Libraries\u001b[39;00m\n\u001b[1;32m     11\u001b[0m \u001b[38;5;28;01mimport\u001b[39;00m\u001b[38;5;250m \u001b[39m\u001b[38;5;21;01mmatplotlib\u001b[39;00m\u001b[38;5;21;01m.\u001b[39;00m\u001b[38;5;21;01mpyplot\u001b[39;00m\u001b[38;5;250m \u001b[39m\u001b[38;5;28;01mas\u001b[39;00m\u001b[38;5;250m \u001b[39m\u001b[38;5;21;01mplt\u001b[39;00m\n\u001b[0;32m---> 12\u001b[0m \u001b[38;5;28;01mfrom\u001b[39;00m\u001b[38;5;250m \u001b[39m\u001b[38;5;21;01mmpl_toolkits\u001b[39;00m\u001b[38;5;21;01m.\u001b[39;00m\u001b[38;5;21;01mbasemap\u001b[39;00m\u001b[38;5;250m \u001b[39m\u001b[38;5;28;01mimport\u001b[39;00m Basemap\n\u001b[1;32m     14\u001b[0m \u001b[38;5;66;03m# Climate Data Store API for retrieving climate data\u001b[39;00m\n\u001b[1;32m     15\u001b[0m \u001b[38;5;28;01mimport\u001b[39;00m\u001b[38;5;250m \u001b[39m\u001b[38;5;21;01mcdsapi\u001b[39;00m\n",
      "File \u001b[0;32m/opt/jupyterhub/lib/python3.10/site-packages/mpl_toolkits/basemap/__init__.py:47\u001b[0m\n\u001b[1;32m     44\u001b[0m \u001b[38;5;28;01mfrom\u001b[39;00m\u001b[38;5;250m \u001b[39m\u001b[38;5;21;01mmpl_toolkits\u001b[39;00m\u001b[38;5;21;01m.\u001b[39;00m\u001b[38;5;21;01maxes_grid1\u001b[39;00m\u001b[38;5;250m \u001b[39m\u001b[38;5;28;01mimport\u001b[39;00m make_axes_locatable\n\u001b[1;32m     46\u001b[0m \u001b[38;5;28;01mimport\u001b[39;00m\u001b[38;5;250m \u001b[39m\u001b[38;5;21;01mpyproj\u001b[39;00m\n\u001b[0;32m---> 47\u001b[0m \u001b[38;5;28;01mimport\u001b[39;00m\u001b[38;5;250m \u001b[39m\u001b[38;5;21;01m_geoslib\u001b[39;00m\n\u001b[1;32m     48\u001b[0m \u001b[38;5;28;01mfrom\u001b[39;00m\u001b[38;5;250m \u001b[39m\u001b[38;5;21;01m.\u001b[39;00m proj \u001b[38;5;28;01mimport\u001b[39;00m\u001b[38;5;250m \u001b[39m\u001b[38;5;21;01mProj\u001b[39;00m\n\u001b[1;32m     51\u001b[0m __version__ \u001b[38;5;241m=\u001b[39m \u001b[38;5;124m\"\u001b[39m\u001b[38;5;124m1.4.1\u001b[39m\u001b[38;5;124m\"\u001b[39m\n",
      "File \u001b[0;32msrc/_geoslib.pyx:1\u001b[0m, in \u001b[0;36minit _geoslib\u001b[0;34m()\u001b[0m\n",
      "\u001b[0;31mValueError\u001b[0m: numpy.dtype size changed, may indicate binary incompatibility. Expected 96 from C header, got 88 from PyObject"
     ]
    }
   ],
   "source": [
    "#!pip install xarray dask cartopy cdsapi netCDF4\n",
    "# Python Standard Libraries\n",
    "import os\n",
    "import datetime as dt\n",
    "\n",
    "# Data Manipulation Libraries\n",
    "import numpy as np\n",
    "import xarray as xr\n",
    "\n",
    "# Visualization Libraries\n",
    "import matplotlib.pyplot as plt\n",
    "from mpl_toolkits.basemap import Basemap\n",
    "\n",
    "# Climate Data Store API for retrieving climate data\n",
    "import cdsapi"
   ]
  },
  {
   "cell_type": "markdown",
   "id": "88802dc0-cee2-4553-990a-589757e26a52",
   "metadata": {},
   "source": [
    "## Downloading the Data"
   ]
  },
  {
   "cell_type": "markdown",
   "id": "8e886538-b643-4477-91ed-bbe96893ce73",
   "metadata": {},
   "source": [
    "First, we'll load ERA5 data from the [Climate Data Store (CDS)](https://doi.org/10.24381/cds.f17050d7) using the `cdsapi`, including the land-sea mask. To do this, provide your CDS API key."
   ]
  },
  {
   "cell_type": "code",
   "execution_count": null,
   "id": "19c24ebe-57cc-4906-bc57-b6d17d9f18cc",
   "metadata": {},
   "outputs": [],
   "source": [
    "URL = 'https://cds.climate.copernicus.eu/api/'\n",
    "KEY = 'APIKEY' # add your key here the format should be as {uid}:{api-key}"
   ]
  },
  {
   "cell_type": "markdown",
   "id": "e6eb994f-2f8c-4f9b-8af3-483cf6b221de",
   "metadata": {},
   "source": [
    "New to CDS? Consider reading the [CDS tutorial](https://ecmwf-projects.github.io/copernicus-training-c3s/cds-tutorial.html) for a detailed guide.\n"
   ]
  },
  {
   "cell_type": "code",
   "execution_count": null,
   "id": "7e8b56e1-ac62-4a49-921c-843f1818d2e8",
   "metadata": {},
   "outputs": [],
   "source": [
    "file_name = {}  # dictionary containing [data source : file name]\n",
    "\n",
    "# Add the data sources and file names\n",
    "file_name.update({\"era5\": \"temperature_era5.nc\"})\n",
    "\n",
    "# Create the paths to the files\n",
    "path_to = {\n",
    "    source: os.path.join(f\"data/{source}/\", file) for source, file in file_name.items()\n",
    "}\n",
    "\n",
    "# Create necessary directories if they do not exist\n",
    "for path in path_to.values():\n",
    "    os.makedirs(\n",
    "        os.path.dirname(path), exist_ok=True\n",
    "    )  # create the folder if not available\n",
    "\n",
    "path_to"
   ]
  },
  {
   "cell_type": "code",
   "execution_count": null,
   "id": "8d37a6a2-b3cd-44eb-8adc-28fad3d35601",
   "metadata": {},
   "outputs": [],
   "source": [
    "c = cdsapi.Client(url=URL, key=KEY)\n",
    "\n",
    "c.retrieve(\n",
    "  'reanalysis-era5-single-levels-monthly-means',\n",
    "  {\n",
    "    'format': 'netcdf',\n",
    "    'product_type': 'monthly_averaged_reanalysis',\n",
    "    'variable': ['2m_temperature', 'land_sea_mask'],\n",
    "    'year': list(range(1950, 2023)),\n",
    "    'month': list(range(1, 13)),\n",
    "    'time': '00:00',\n",
    "    # 'grid': [0.25, 0.25],\n",
    "  },\n",
    "  path_to['era5']\n",
    ")"
   ]
  },
  {
   "cell_type": "markdown",
   "id": "b9318f0e-9497-4e59-a477-f8ae6314b6d5",
   "metadata": {},
   "source": [
    "## Opening the dataset\n",
    "\n",
    "Now it is downloaded, we can open the dataset and inspect it using `xarray`."
   ]
  },
  {
   "cell_type": "code",
   "execution_count": null,
   "id": "e04ed479-8d90-446c-b956-b3f11667a034",
   "metadata": {},
   "outputs": [],
   "source": [
    "data = xr.open_dataset('data/era5/temperature_era5.nc')\n",
    "data"
   ]
  },
  {
   "cell_type": "code",
   "execution_count": null,
   "id": "3a5baa41-0780-4e1b-9d59-e0550c5c8bd4",
   "metadata": {},
   "outputs": [],
   "source": [
    "lat = data.latitude\n",
    "lon = data.longitude\n",
    "longitude= data.longitude-180\n",
    "data = data.sortby(longitude)\n",
    "\n",
    "temp_2m = data.t2m[0,:,:]\n"
   ]
  },
  {
   "cell_type": "code",
   "execution_count": null,
   "id": "ef31bbf5-a87c-440c-a942-ab05c9f0828d",
   "metadata": {},
   "outputs": [],
   "source": [
    "m = Basemap(projection='cyl', llcrnrlon=-20, llcrnrlat=30, urcrnrlon=50, urcrnrlat=80,resolution='i')\n",
    "m.drawcoastlines(1)\n",
    "m.drawcountries()\n",
    "\n",
    "parallels = np.arange(-90,90+0.25,20)\n",
    "m.drawparallels(parallels, labels=[1,0,0,0], linewidth=0.5)\n",
    "meridians = np.arange(-180,180+0.25,20)\n",
    "m.drawmeridians(meridians, labels=[0,0,0,1], linewidth=0.5)\n",
    "\n",
    "cf = plt.contourf(longitude, lat, temp_2m, cmap='jet')\n",
    "cb = plt.colorbar(cf, fraction=0.0235, pad=0.02)\n",
    "cb.set_label(' \\u00b0K', fontsize=15, rotation=0)\n",
    "\n",
    "plt.show()"
   ]
  },
  {
   "cell_type": "markdown",
   "id": "b6380752-5386-4493-b2e5-c5e5db05c7b9",
   "metadata": {},
   "source": [
    "## Calculate the yearly average for 1950"
   ]
  },
  {
   "cell_type": "code",
   "execution_count": null,
   "id": "e31523bd-47a0-40d2-931d-dd74f9c73cbf",
   "metadata": {},
   "outputs": [],
   "source": [
    "start_date = \"1950-01-01\"\n",
    "end_date = \"1950-12-01\"\n",
    "\n",
    "temp_1950 = data.sel(valid_time=slice(start_date, end_date))\n",
    "temp_1950"
   ]
  },
  {
   "cell_type": "code",
   "execution_count": null,
   "id": "beca291a-6142-4408-b416-c715a40dc15b",
   "metadata": {},
   "outputs": [],
   "source": [
    "mean_1950 = temp_1950.t2m.sum(dim=\"valid_time\") / 12\n",
    "mean_1950"
   ]
  },
  {
   "cell_type": "code",
   "execution_count": null,
   "id": "82762a24-cdba-44e7-842b-f4d1b0c48057",
   "metadata": {},
   "outputs": [],
   "source": [
    "m = Basemap(projection='cyl', llcrnrlon=-20, llcrnrlat=30, urcrnrlon=50, urcrnrlat=80,resolution='i')\n",
    "m.drawcoastlines(1)\n",
    "m.drawcountries()\n",
    "\n",
    "parallels = np.arange(-90,90+0.25,20)\n",
    "m.drawparallels(parallels, labels=[1,0,0,0], linewidth=0.5)\n",
    "meridians = np.arange(-180,180+0.25,20)\n",
    "m.drawmeridians(meridians, labels=[0,0,0,1], linewidth=0.5)\n",
    "\n",
    "cf = plt.contourf(longitude, lat, mean_1950, cmap='jet')\n",
    "cb = plt.colorbar(cf, fraction=0.0235, pad=0.02)\n",
    "cb.set_label(' \\u00b0K', fontsize=15, rotation=0)\n",
    "\n",
    "plt.show()"
   ]
  },
  {
   "cell_type": "markdown",
   "id": "ea2d070a",
   "metadata": {},
   "source": [
    "## Calculate the yearly average for 2020 and then visualise the difference between the average temperature in 1950 and 2020"
   ]
  },
  {
   "cell_type": "code",
   "execution_count": null,
   "id": "7a1abe60-13b6-4b7e-8bfe-d9694f2cfa05",
   "metadata": {},
   "outputs": [],
   "source": [
    "start_date = \"2020-01-01\"\n",
    "end_date = \"2020-12-01\"\n",
    "\n",
    "temp_2020 = data.sel(valid_time=slice(start_date, end_date))\n",
    "temp_2020"
   ]
  },
  {
   "cell_type": "code",
   "execution_count": null,
   "id": "5cb60920-518d-4954-b3dc-8683c4e1ea43",
   "metadata": {},
   "outputs": [],
   "source": [
    "mean_2020 = temp_2020.t2m.sum(dim=\"valid_time\") / 12\n",
    "mean_2020"
   ]
  },
  {
   "cell_type": "code",
   "execution_count": null,
   "id": "0d4f98c8-fc7e-49c7-b883-fcad5518d71b",
   "metadata": {},
   "outputs": [],
   "source": [
    "m = Basemap(projection='cyl', llcrnrlon=-20, llcrnrlat=30, urcrnrlon=50, urcrnrlat=80,resolution='i')\n",
    "m.drawcoastlines(1)\n",
    "m.drawcountries()\n",
    "\n",
    "parallels = np.arange(-90,90+0.25,20)\n",
    "m.drawparallels(parallels, labels=[1,0,0,0], linewidth=0.5)\n",
    "meridians = np.arange(-180,180+0.25,20)\n",
    "m.drawmeridians(meridians, labels=[0,0,0,1], linewidth=0.5)\n",
    "\n",
    "cf = plt.contourf(longitude, lat, mean_1950 - mean_2020, cmap='jet')\n",
    "cb = plt.colorbar(cf, fraction=0.0235, pad=0.02)\n",
    "cb.set_label(' \\u00b0K', fontsize=15, rotation=0)\n",
    "\n",
    "plt.show()"
   ]
  }
 ],
 "metadata": {
  "kernelspec": {
   "display_name": "Python 3 (ipykernel)",
   "language": "python",
   "name": "python3"
  },
  "language_info": {
   "codemirror_mode": {
    "name": "ipython",
    "version": 3
   },
   "file_extension": ".py",
   "mimetype": "text/x-python",
   "name": "python",
   "nbconvert_exporter": "python",
   "pygments_lexer": "ipython3",
   "version": "3.10.12"
  }
 },
 "nbformat": 4,
 "nbformat_minor": 5
}
